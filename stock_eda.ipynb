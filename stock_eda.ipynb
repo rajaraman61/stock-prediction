{
  "nbformat": 4,
  "nbformat_minor": 0,
  "metadata": {
    "colab": {
      "provenance": [],
      "private_outputs": true,
      "mount_file_id": "12khpfY6kV02ekNgkhluS6XNAHqatOzXt",
      "authorship_tag": "ABX9TyNWnN6VE5mTtDndSX/GOk7z",
      "include_colab_link": true
    },
    "kernelspec": {
      "name": "python3",
      "display_name": "Python 3"
    },
    "language_info": {
      "name": "python"
    },
    "accelerator": "GPU",
    "gpuClass": "standard"
  },
  "cells": [
    {
      "cell_type": "markdown",
      "metadata": {
        "id": "view-in-github",
        "colab_type": "text"
      },
      "source": [
        "<a href=\"https://colab.research.google.com/github/rajaraman61/stock-prediction/blob/main/stock_eda.ipynb\" target=\"_parent\"><img src=\"https://colab.research.google.com/assets/colab-badge.svg\" alt=\"Open In Colab\"/></a>"
      ]
    },
    {
      "cell_type": "markdown",
      "source": [
        "# Import libraries"
      ],
      "metadata": {
        "id": "2yZpIZLQLiaI"
      }
    },
    {
      "cell_type": "code",
      "execution_count": null,
      "metadata": {
        "id": "xNKbGZ33IMvq"
      },
      "outputs": [],
      "source": [
        "import numpy as np # linear algebra\n",
        "import pandas as pd # data processing, CSV file I/O (e.g. pd.read_csv)\n",
        "import matplotlib.pyplot as plt\n",
        "import seaborn as sns\n",
        "from sklearn.impute import SimpleImputer\n",
        "%matplotlib inline\n",
        "import warnings\n",
        "warnings.filterwarnings('ignore')"
      ]
    },
    {
      "cell_type": "code",
      "source": [
        "# Setup kaggle - colab\n",
        "!pip install -q kaggle\n",
        "from google.colab import files\n",
        "files.upload()"
      ],
      "metadata": {
        "id": "DmzVQL1wLweC"
      },
      "execution_count": null,
      "outputs": []
    },
    {
      "cell_type": "code",
      "source": [
        "!mkdir ~/.kaggle\n",
        "!cp kaggle.json ~/.kaggle/\n",
        "!chmod 600 ~/.kaggle/kaggle.json\n",
        "!kaggle datasets download -d yasserh/walmart-dataset\n",
        "!unzip walmart-dataset.zip"
      ],
      "metadata": {
        "id": "oShGJcRyMGQm"
      },
      "execution_count": null,
      "outputs": []
    },
    {
      "cell_type": "code",
      "source": [
        "df = pd.read_csv(\"Walmart.csv\")\n",
        "df.head()"
      ],
      "metadata": {
        "id": "HVqGIpwqNo_5"
      },
      "execution_count": null,
      "outputs": []
    },
    {
      "cell_type": "code",
      "source": [
        "df.info()"
      ],
      "metadata": {
        "id": "svYY53N2P5qA"
      },
      "execution_count": null,
      "outputs": []
    },
    {
      "cell_type": "code",
      "source": [
        "df.describe()"
      ],
      "metadata": {
        "id": "FP3tQPyrP-Pc"
      },
      "execution_count": null,
      "outputs": []
    },
    {
      "cell_type": "code",
      "source": [
        "df.describe().style.background_gradient(cmap = 'GnBu')"
      ],
      "metadata": {
        "id": "zy0KIdS7QAGr"
      },
      "execution_count": null,
      "outputs": []
    },
    {
      "cell_type": "markdown",
      "source": [
        "Highest weekly sales is **3818686.450000**"
      ],
      "metadata": {
        "id": "rzGYD0lyQa-Y"
      }
    },
    {
      "cell_type": "code",
      "source": [
        "df.isnull().sum()"
      ],
      "metadata": {
        "id": "Y-OmBR2uQIS4"
      },
      "execution_count": null,
      "outputs": []
    },
    {
      "cell_type": "code",
      "source": [
        "df.shape"
      ],
      "metadata": {
        "id": "syNQ2YxDQi7y"
      },
      "execution_count": null,
      "outputs": []
    },
    {
      "cell_type": "code",
      "source": [
        "df['Date'] = pd.to_datetime(df['Date'])\n",
        "df['Day'] = df['Date'].dt.weekday\n",
        "df['Week'] = df['Date'].dt.week\n",
        "df['Month'] = df['Date'].dt.month\n",
        "df['Year']  = df['Date'].dt.year\n",
        "df.drop('Date',axis=1,inplace=True)\n",
        "df.head()"
      ],
      "metadata": {
        "id": "larZRQKjQkqj"
      },
      "execution_count": null,
      "outputs": []
    },
    {
      "cell_type": "markdown",
      "source": [
        "The date is discected into day, Month and year for further analysis."
      ],
      "metadata": {
        "id": "zg2cL6kzSAEE"
      }
    },
    {
      "cell_type": "code",
      "source": [
        "df.shape"
      ],
      "metadata": {
        "id": "fwXG4WzrQmen"
      },
      "execution_count": null,
      "outputs": []
    },
    {
      "cell_type": "code",
      "source": [
        "for i in df.columns:\n",
        "    print(f'{i}: {df[i].nunique()}')"
      ],
      "metadata": {
        "id": "8u4WXy4iSD-e"
      },
      "execution_count": null,
      "outputs": []
    },
    {
      "cell_type": "code",
      "source": [
        "df.columns"
      ],
      "metadata": {
        "id": "37udjOe1Shz_"
      },
      "execution_count": null,
      "outputs": []
    },
    {
      "cell_type": "markdown",
      "source": [
        "# EDA"
      ],
      "metadata": {
        "id": "5Uvz9C0WSK2k"
      }
    },
    {
      "cell_type": "code",
      "source": [
        "plt.pie(df['Year'].value_counts().values,labels =df['Year'].value_counts().index,\n",
        "       autopct='%1.2f%%',shadow=True,colors=['gold','red',\"silver\"])\n",
        "plt.title('Annual Sales')\n",
        "plt.show()"
      ],
      "metadata": {
        "id": "4UgEJHuFSNEW"
      },
      "execution_count": null,
      "outputs": []
    },
    {
      "cell_type": "markdown",
      "source": [
        "Year 2011 has highest sales followed by 2010 and 2012."
      ],
      "metadata": {
        "id": "DNCdG9gtSahr"
      }
    },
    {
      "cell_type": "code",
      "source": [
        "plt.figure(figsize=(16,8))\n",
        "\n",
        "df.groupby('Store')['Weekly_Sales'].sum().plot(kind='bar')\n",
        "plt.title('Year-Wise Sales')\n",
        "\n",
        "plt.show()"
      ],
      "metadata": {
        "id": "2llrDZYHSWTv"
      },
      "execution_count": null,
      "outputs": []
    },
    {
      "cell_type": "markdown",
      "source": [
        "Store number 4 and 20 have highest weekly sales."
      ],
      "metadata": {
        "id": "Jk_4dx4XS15V"
      }
    },
    {
      "cell_type": "code",
      "source": [
        "plt.figure(figsize=(8,4))\n",
        "\n",
        "df.groupby(['Day'])['Weekly_Sales'].sum().plot(kind='line',color='Red')\n",
        "plt.title('Daywise Sales')\n",
        "\n",
        "plt.show()  "
      ],
      "metadata": {
        "id": "UPVWTILGSknd"
      },
      "execution_count": null,
      "outputs": []
    },
    {
      "cell_type": "markdown",
      "source": [
        "Thursday has maximum sales in a week."
      ],
      "metadata": {
        "id": "fbQU9psyTJG8"
      }
    },
    {
      "cell_type": "code",
      "source": [
        "plt.figure(figsize=(18,6))\n",
        "\n",
        "df.groupby(['Week'])['Weekly_Sales'].sum().plot(kind='bar', color='orange')\n",
        "plt.title('Week-wise Sales')\n",
        "\n",
        "plt.show()"
      ],
      "metadata": {
        "id": "HZh9T_JYS680"
      },
      "execution_count": null,
      "outputs": []
    },
    {
      "cell_type": "markdown",
      "source": [
        "41st week has highest sale in a year"
      ],
      "metadata": {
        "id": "denNcw9TThLl"
      }
    },
    {
      "cell_type": "code",
      "source": [
        "plt.figure(figsize=(8,4))\n",
        "\n",
        "df.groupby('Month')['Weekly_Sales'].sum().plot(kind='bar',color='pink')\n",
        "plt.title('Month-wise Sales')\n",
        "\n",
        "plt.show()"
      ],
      "metadata": {
        "id": "VJrkMDzYTUDE"
      },
      "execution_count": null,
      "outputs": []
    },
    {
      "cell_type": "markdown",
      "source": [
        "April and December has highest sales"
      ],
      "metadata": {
        "id": "0PDiTK0PTpa_"
      }
    },
    {
      "cell_type": "code",
      "source": [
        "  plt.figure(figsize=(14,10))\n",
        "\n",
        "df.groupby('Year')['Weekly_Sales'].sum().plot(kind='bar', color=\"red\")\n",
        "plt.title('Year-Wise Sales')\n",
        "\n",
        "plt.show()"
      ],
      "metadata": {
        "id": "cCl5ey6pTlOT"
      },
      "execution_count": null,
      "outputs": []
    },
    {
      "cell_type": "code",
      "source": [
        "# finding outlier\n",
        "n = 1\n",
        "cols =[\"Weekly_Sales\",\"Temperature\",\"Fuel_Price\",\"CPI\",\"Unemployment\"]\n",
        "plt.figure(figsize=(15,10))\n",
        "for i in cols:\n",
        "        if n<=5:\n",
        "            plt.subplot(3,2,n);\n",
        "            n+=1\n",
        "            sns.boxplot(x = df[i])\n",
        "            plt.xlabel(i)"
      ],
      "metadata": {
        "id": "VkISdLFKTyUQ"
      },
      "execution_count": null,
      "outputs": []
    },
    {
      "cell_type": "code",
      "source": [
        "l = [\"Weekly_Sales\",\"Temperature\",\"Unemployment\"]\n",
        "def outlier_removal(l):\n",
        "    for i in l:\n",
        "        Q1  = df[i].quantile(0.25)\n",
        "        Q3  = df[i].quantile(0.75)\n",
        "        IQR = Q3-Q1\n",
        "        Uper = Q3+1.5*IQR\n",
        "        lower = Q1-1.5*IQR\n",
        "        df[i]  = np.where(df[i]>Uper,Uper,(np.where(df[i]<lower,lower,df[i])))\n",
        "outlier_removal(l)"
      ],
      "metadata": {
        "id": "Z8OBHf1EUEeT"
      },
      "execution_count": null,
      "outputs": []
    },
    {
      "cell_type": "code",
      "source": [
        "n = 1\n",
        "cols =[\"Weekly_Sales\",\"Temperature\",\"Unemployment\"]\n",
        "plt.figure(figsize=(15,3))\n",
        "for i in cols:\n",
        "        if n<=3:\n",
        "            plt.subplot(1,3,n);\n",
        "            n+=1\n",
        "            sns.boxplot(x = df[i])\n",
        "            plt.xlabel(i)"
      ],
      "metadata": {
        "id": "btEDu6IUUHEg"
      },
      "execution_count": null,
      "outputs": []
    },
    {
      "cell_type": "code",
      "source": [
        "df2 = df.copy()\n",
        "df2.head()"
      ],
      "metadata": {
        "id": "BKQRqckiUIiG"
      },
      "execution_count": null,
      "outputs": []
    },
    {
      "cell_type": "code",
      "source": [
        "days = {0:'Sunday',1:'Monday',2:'Tuesday',3:'Wednesday',4:'Thursday',5: 'Friday',6:'Saturday'}\n",
        "df2['Day'] = df2['Day'].map(days)\n",
        "months={1:'January',2:'February',3:'March',4:'April',5:'May',6:'June',7:'July',8:'August',9:'September',10:'October',11:'Novemenber',12:'December'}\n",
        "df2['Month']= df2['Month'].map(months)\n",
        "df2.head()"
      ],
      "metadata": {
        "id": "iNGQFn_QUNEf"
      },
      "execution_count": null,
      "outputs": []
    },
    {
      "cell_type": "code",
      "source": [
        "plt.figure(figsize=(16,8))\n",
        "plt.subplot(1, 3, 2)\n",
        "plt.pie(df2['Day'].value_counts().values, labels =df2['Day'].value_counts().index,\n",
        "autopct = '%1.2f%%', shadow=True,colors=[\"Orange\",'tomato', 'cornflowerblue', 'gold', 'orchid', 'green',\"#77BFE2\"]) \n",
        "plt.title('Day-wise Distribution')\n",
        "plt.grid()\n",
        "\n",
        "plt.subplot(1, 3, 1)\n",
        "plt.pie(df2['Month'].value_counts().values, labels =df2['Month'].value_counts().index,\n",
        "autopct = '%1.2f%%',startangle=90, shadow=True,colors=sns.color_palette('Set2'))\n",
        "plt.title('Month-wise Distribution')\n",
        "plt.grid()\n",
        "\n",
        "plt.subplot(1, 3, 3)\n",
        "df3 = df2.groupby('Holiday_Flag')['Weekly_Sales'].sum().reset_index()\n",
        "plt.pie(df2['Year'].value_counts().values, labels =df2['Year'].value_counts().index,\n",
        "autopct = '%1.2f%%',startangle=90, shadow=True,colors=sns.color_palette('Set2'),labeldistance=1.1)  \n",
        "plt.title('Year-wise Distribution')\n",
        "plt.grid()\n",
        "\n",
        "plt.show()"
      ],
      "metadata": {
        "id": "wZnJFwjkUOu8"
      },
      "execution_count": null,
      "outputs": []
    },
    {
      "cell_type": "code",
      "source": [
        "plt.figure(figsize=(12,10))\n",
        "\n",
        "sns.barplot(df2,x= 'Week',y='Weekly_Sales')\n",
        "plt.title('Weekly Sales')\n",
        "\n",
        "plt.show()"
      ],
      "metadata": {
        "id": "Lr8AmQt9UUQc"
      },
      "execution_count": null,
      "outputs": []
    },
    {
      "cell_type": "markdown",
      "source": [
        "47th and 51st week has maximum weekly sales. Week 4th has minimum sales."
      ],
      "metadata": {
        "id": "TJXw0ShfUjI5"
      }
    },
    {
      "cell_type": "code",
      "source": [
        "plt.figure(figsize=(20,14))\n",
        "monthly_sales = pd.pivot_table(df2, index = \"Month\", columns = \"Year\", values = \"Weekly_Sales\")\n",
        "monthly_sales.plot()\n",
        "plt.title('Yearly Sales')\n",
        "plt.show()"
      ],
      "metadata": {
        "id": "fatZsJSUUciC"
      },
      "execution_count": null,
      "outputs": []
    },
    {
      "cell_type": "code",
      "source": [
        "print('Minimum Sales in the Walmart: ',df2.groupby('Store')['Weekly_Sales'].sum().min())\n",
        "print('Maximum Sales in the Walmart: ',df2.groupby('Store')['Weekly_Sales'].sum().max())"
      ],
      "metadata": {
        "id": "UojEx4RlUlSd"
      },
      "execution_count": null,
      "outputs": []
    },
    {
      "cell_type": "code",
      "source": [
        "df3 = df2.groupby('Holiday_Flag')['Weekly_Sales'].sum().reset_index()\n",
        "plt.pie(df3['Weekly_Sales'],labels= ['Normal Week','Special Holiday Week'],\n",
        "autopct='%1.2f%%',startangle=90,explode=[0,0.2],shadow=True,colors=['orange','brown'])\n",
        "plt.show()"
      ],
      "metadata": {
        "id": "cn5gNc0MUtGT"
      },
      "execution_count": null,
      "outputs": []
    },
    {
      "cell_type": "code",
      "source": [
        "from numpy import mean\n",
        "t = 1\n",
        "plt.figure(figsize=(18,16))\n",
        "for i in [\"Weekly_Sales\",\"Temperature\",\"Fuel_Price\",\"CPI\",\"Unemployment\"]:\n",
        "        if t<=5:\n",
        "            plt.subplot(3,2,t)\n",
        "            ax = sns.barplot(data = df2 , x = \"Holiday_Flag\" ,y = i  , hue = df.Holiday_Flag ,estimator=mean);\n",
        "            t+=1\n",
        "            \n",
        "            for i in ax.containers:     #to set a label on top of the bars.\n",
        "                ax.bar_label(i,)"
      ],
      "metadata": {
        "id": "z0Pp1BFQUyGu"
      },
      "execution_count": null,
      "outputs": []
    },
    {
      "cell_type": "code",
      "source": [
        "  n = 1\n",
        "plt.figure(figsize=(18,16))\n",
        "for i in [\"Weekly_Sales\",\"Temperature\",\"Fuel_Price\",\"CPI\",\"Unemployment\"]:\n",
        "        if n<=5:\n",
        "            plt.subplot(5,1,n)\n",
        "            ax = sns.lineplot(data = df2 , x = \"Year\" ,y = i  , hue = df.Holiday_Flag );\n",
        "            plt.xticks(rotation = 90)\n",
        "            n+=1"
      ],
      "metadata": {
        "id": "JPXOy72BU3Jz"
      },
      "execution_count": null,
      "outputs": []
    },
    {
      "cell_type": "code",
      "source": [
        "sns.pairplot(df2 , hue = \"Holiday_Flag\" );\n",
        "plt.title(\"Distribution and relation of all attributes on Holiday and Normal Week\");"
      ],
      "metadata": {
        "id": "55r-AYg1U9f_"
      },
      "execution_count": null,
      "outputs": []
    },
    {
      "cell_type": "code",
      "source": [
        "# Heatmap - to analyze the coorelation\n",
        "plt.figure(figsize = (20,10))\n",
        "sns.heatmap(df2.corr(),annot=True,cmap =\"YlGnBu\")\n",
        "plt.title('Correlation Matrix')\n",
        "plt.show()"
      ],
      "metadata": {
        "id": "sTgZR4oAVKne"
      },
      "execution_count": null,
      "outputs": []
    },
    {
      "cell_type": "code",
      "source": [
        "df2.Holiday_Flag.value_counts()"
      ],
      "metadata": {
        "id": "rLB9iSqnVNhX"
      },
      "execution_count": null,
      "outputs": []
    },
    {
      "cell_type": "code",
      "source": [
        "n = 1\n",
        "plt.figure(figsize=(15,10))\n",
        "for i in ['Weekly_Sales','Temperature', 'Fuel_Price','CPI', 'Unemployment','Year']:\n",
        "        if n<=6:\n",
        "            plt.subplot(3,2,n);\n",
        "            n+=1\n",
        "            sns.kdeplot(x = df2[i])\n",
        "            plt.xlabel(i)"
      ],
      "metadata": {
        "id": "BrXkQfJGVUmU"
      },
      "execution_count": null,
      "outputs": []
    },
    {
      "cell_type": "code",
      "source": [],
      "metadata": {
        "id": "KnoUsGrnVWD6"
      },
      "execution_count": null,
      "outputs": []
    }
  ]
}